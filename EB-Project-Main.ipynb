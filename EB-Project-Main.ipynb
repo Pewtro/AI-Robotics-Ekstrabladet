{
 "cells": [
  {
   "cell_type": "markdown",
   "metadata": {},
   "source": [
    "# Preprocessing"
   ]
  },
  {
   "cell_type": "code",
   "execution_count": 1,
   "metadata": {},
   "outputs": [],
   "source": [
    "import pandas as pd\n",
    "import numpy as np\n",
    "#Used for pretty printing\n",
    "from pprint import pprint\n"
   ]
  },
  {
   "cell_type": "code",
   "execution_count": 2,
   "metadata": {},
   "outputs": [
    {
     "data": {
      "text/html": [
       "<div>\n",
       "<style scoped>\n",
       "    .dataframe tbody tr th:only-of-type {\n",
       "        vertical-align: middle;\n",
       "    }\n",
       "\n",
       "    .dataframe tbody tr th {\n",
       "        vertical-align: top;\n",
       "    }\n",
       "\n",
       "    .dataframe thead th {\n",
       "        text-align: right;\n",
       "    }\n",
       "</style>\n",
       "<table border=\"1\" class=\"dataframe\">\n",
       "  <thead>\n",
       "    <tr style=\"text-align: right;\">\n",
       "      <th></th>\n",
       "      <th>Unnamed: 0</th>\n",
       "      <th>title</th>\n",
       "      <th>homesection</th>\n",
       "      <th>publishdate</th>\n",
       "      <th>pageviews</th>\n",
       "      <th>popularity</th>\n",
       "    </tr>\n",
       "  </thead>\n",
       "  <tbody>\n",
       "    <tr>\n",
       "      <th>0</th>\n",
       "      <td>18976</td>\n",
       "      <td>Fem danskere i Touren: Sunweb udtager Søren Kragh</td>\n",
       "      <td>Cykling</td>\n",
       "      <td>2018-07-02 17:41:01 UTC</td>\n",
       "      <td>1499</td>\n",
       "      <td>0</td>\n",
       "    </tr>\n",
       "    <tr>\n",
       "      <th>1</th>\n",
       "      <td>31594</td>\n",
       "      <td>Klæstrup gift i moské: Jeg er så lykkelig</td>\n",
       "      <td>Danske kendte</td>\n",
       "      <td>2018-08-13 17:40:39 UTC</td>\n",
       "      <td>227329</td>\n",
       "      <td>1</td>\n",
       "    </tr>\n",
       "    <tr>\n",
       "      <th>2</th>\n",
       "      <td>10062</td>\n",
       "      <td>Teenager druknet efter skub i leg: Nu er kamme...</td>\n",
       "      <td>112</td>\n",
       "      <td>2018-06-02 09:57:02 UTC</td>\n",
       "      <td>85556</td>\n",
       "      <td>1</td>\n",
       "    </tr>\n",
       "    <tr>\n",
       "      <th>3</th>\n",
       "      <td>23137</td>\n",
       "      <td>It-fejl i europæisk flyveplansystem er rettet</td>\n",
       "      <td>Samfund</td>\n",
       "      <td>2018-04-04 00:10:44 UTC</td>\n",
       "      <td>1346</td>\n",
       "      <td>0</td>\n",
       "    </tr>\n",
       "    <tr>\n",
       "      <th>4</th>\n",
       "      <td>7639</td>\n",
       "      <td>Voldtaget to timer på loftet over café: - Jeg ...</td>\n",
       "      <td>112</td>\n",
       "      <td>2018-08-06 20:42:12 UTC</td>\n",
       "      <td>303642</td>\n",
       "      <td>1</td>\n",
       "    </tr>\n",
       "  </tbody>\n",
       "</table>\n",
       "</div>"
      ],
      "text/plain": [
       "   Unnamed: 0                                              title  \\\n",
       "0       18976  Fem danskere i Touren: Sunweb udtager Søren Kragh   \n",
       "1       31594          Klæstrup gift i moské: Jeg er så lykkelig   \n",
       "2       10062  Teenager druknet efter skub i leg: Nu er kamme...   \n",
       "3       23137      It-fejl i europæisk flyveplansystem er rettet   \n",
       "4        7639  Voldtaget to timer på loftet over café: - Jeg ...   \n",
       "\n",
       "     homesection              publishdate  pageviews  popularity  \n",
       "0        Cykling  2018-07-02 17:41:01 UTC       1499           0  \n",
       "1  Danske kendte  2018-08-13 17:40:39 UTC     227329           1  \n",
       "2            112  2018-06-02 09:57:02 UTC      85556           1  \n",
       "3        Samfund  2018-04-04 00:10:44 UTC       1346           0  \n",
       "4            112  2018-08-06 20:42:12 UTC     303642           1  "
      ]
     },
     "execution_count": 2,
     "metadata": {},
     "output_type": "execute_result"
    }
   ],
   "source": [
    "df = pd.read_csv(\"Data/headlinesViews.csv\")\n",
    "df.head()"
   ]
  },
  {
   "cell_type": "code",
   "execution_count": 3,
   "metadata": {},
   "outputs": [
    {
     "data": {
      "text/plain": [
       "(31518, 6)"
      ]
     },
     "execution_count": 3,
     "metadata": {},
     "output_type": "execute_result"
    }
   ],
   "source": [
    "df.shape"
   ]
  },
  {
   "cell_type": "code",
   "execution_count": 4,
   "metadata": {},
   "outputs": [
    {
     "data": {
      "text/plain": [
       "1    15799\n",
       "0    15719\n",
       "Name: popularity, dtype: int64"
      ]
     },
     "execution_count": 4,
     "metadata": {},
     "output_type": "execute_result"
    }
   ],
   "source": [
    "df.popularity.value_counts()"
   ]
  },
  {
   "cell_type": "code",
   "execution_count": 5,
   "metadata": {},
   "outputs": [
    {
     "name": "stdout",
     "output_type": "stream",
     "text": [
      "<class 'pandas.core.frame.DataFrame'>\n",
      "RangeIndex: 31518 entries, 0 to 31517\n",
      "Data columns (total 2 columns):\n",
      " #   Column      Non-Null Count  Dtype \n",
      "---  ------      --------------  ----- \n",
      " 0   title       31518 non-null  object\n",
      " 1   popularity  31518 non-null  int64 \n",
      "dtypes: int64(1), object(1)\n",
      "memory usage: 492.6+ KB\n"
     ]
    }
   ],
   "source": [
    "df.drop([\"Unnamed: 0\", \"publishdate\",\"homesection\",\"pageviews\"], axis=1, inplace=True)\n",
    "df.info()"
   ]
  },
  {
   "cell_type": "code",
   "execution_count": 6,
   "metadata": {},
   "outputs": [
    {
     "data": {
      "text/plain": [
       "31518"
      ]
     },
     "execution_count": 6,
     "metadata": {},
     "output_type": "execute_result"
    }
   ],
   "source": [
    "df['title'].nunique() #Distinct values"
   ]
  },
  {
   "cell_type": "code",
   "execution_count": 7,
   "metadata": {},
   "outputs": [
    {
     "data": {
      "text/plain": [
       "2"
      ]
     },
     "execution_count": 7,
     "metadata": {},
     "output_type": "execute_result"
    }
   ],
   "source": [
    "df['popularity'].nunique() #Distinct values"
   ]
  },
  {
   "cell_type": "code",
   "execution_count": 8,
   "metadata": {},
   "outputs": [
    {
     "data": {
      "text/html": [
       "<div>\n",
       "<style scoped>\n",
       "    .dataframe tbody tr th:only-of-type {\n",
       "        vertical-align: middle;\n",
       "    }\n",
       "\n",
       "    .dataframe tbody tr th {\n",
       "        vertical-align: top;\n",
       "    }\n",
       "\n",
       "    .dataframe thead th {\n",
       "        text-align: right;\n",
       "    }\n",
       "</style>\n",
       "<table border=\"1\" class=\"dataframe\">\n",
       "  <thead>\n",
       "    <tr style=\"text-align: right;\">\n",
       "      <th></th>\n",
       "      <th>title</th>\n",
       "      <th>popularity</th>\n",
       "    </tr>\n",
       "  </thead>\n",
       "  <tbody>\n",
       "    <tr>\n",
       "      <th>0</th>\n",
       "      <td>fem danskere i touren: sunweb udtager søren kragh</td>\n",
       "      <td>0</td>\n",
       "    </tr>\n",
       "    <tr>\n",
       "      <th>1</th>\n",
       "      <td>klæstrup gift i moské: jeg er så lykkelig</td>\n",
       "      <td>1</td>\n",
       "    </tr>\n",
       "    <tr>\n",
       "      <th>2</th>\n",
       "      <td>teenager druknet efter skub i leg: nu er kamme...</td>\n",
       "      <td>1</td>\n",
       "    </tr>\n",
       "    <tr>\n",
       "      <th>3</th>\n",
       "      <td>it-fejl i europæisk flyveplansystem er rettet</td>\n",
       "      <td>0</td>\n",
       "    </tr>\n",
       "    <tr>\n",
       "      <th>4</th>\n",
       "      <td>voldtaget to timer på loftet over café: - jeg ...</td>\n",
       "      <td>1</td>\n",
       "    </tr>\n",
       "    <tr>\n",
       "      <th>...</th>\n",
       "      <td>...</td>\n",
       "      <td>...</td>\n",
       "    </tr>\n",
       "    <tr>\n",
       "      <th>31513</th>\n",
       "      <td>helt til hest: politiet mangler borgernes hjæl...</td>\n",
       "      <td>0</td>\n",
       "    </tr>\n",
       "    <tr>\n",
       "      <th>31514</th>\n",
       "      <td>kæmpe ballade under pokalfinale: politiet brug...</td>\n",
       "      <td>1</td>\n",
       "    </tr>\n",
       "    <tr>\n",
       "      <th>31515</th>\n",
       "      <td>lavede sexbånd med kardashian: jeg er videre</td>\n",
       "      <td>0</td>\n",
       "    </tr>\n",
       "    <tr>\n",
       "      <th>31516</th>\n",
       "      <td>politiet bekræfter: nu skal ronaldo afhøres</td>\n",
       "      <td>1</td>\n",
       "    </tr>\n",
       "    <tr>\n",
       "      <th>31517</th>\n",
       "      <td>superliga-stjerne: min bror forsvandt og blev ...</td>\n",
       "      <td>1</td>\n",
       "    </tr>\n",
       "  </tbody>\n",
       "</table>\n",
       "<p>31518 rows × 2 columns</p>\n",
       "</div>"
      ],
      "text/plain": [
       "                                                   title  popularity\n",
       "0      fem danskere i touren: sunweb udtager søren kragh           0\n",
       "1              klæstrup gift i moské: jeg er så lykkelig           1\n",
       "2      teenager druknet efter skub i leg: nu er kamme...           1\n",
       "3          it-fejl i europæisk flyveplansystem er rettet           0\n",
       "4      voldtaget to timer på loftet over café: - jeg ...           1\n",
       "...                                                  ...         ...\n",
       "31513  helt til hest: politiet mangler borgernes hjæl...           0\n",
       "31514  kæmpe ballade under pokalfinale: politiet brug...           1\n",
       "31515       lavede sexbånd med kardashian: jeg er videre           0\n",
       "31516       politiet bekræfter: nu skal ronaldo afhøres            1\n",
       "31517  superliga-stjerne: min bror forsvandt og blev ...           1\n",
       "\n",
       "[31518 rows x 2 columns]"
      ]
     },
     "execution_count": 8,
     "metadata": {},
     "output_type": "execute_result"
    }
   ],
   "source": [
    "# Make everything lowercase\n",
    "df[\"title\"] = df[\"title\"].str.lower()\n",
    "df"
   ]
  },
  {
   "cell_type": "code",
   "execution_count": 9,
   "metadata": {},
   "outputs": [
    {
     "data": {
      "text/plain": [
       "0     fem danskere i touren sunweb udtager søren kragh\n",
       "1             klæstrup gift i moské jeg er så lykkelig\n",
       "2    teenager druknet efter skub i leg nu er kammer...\n",
       "3         itfejl i europæisk flyveplansystem er rettet\n",
       "4    voldtaget to timer på loftet over café  jeg vi...\n",
       "Name: title, dtype: object"
      ]
     },
     "execution_count": 9,
     "metadata": {},
     "output_type": "execute_result"
    }
   ],
   "source": [
    "# Remove all punctuation\n",
    "df['title'] = df['title'].str.replace('[^\\w\\s]','')\n",
    "df['title'].head()"
   ]
  },
  {
   "cell_type": "code",
   "execution_count": 10,
   "metadata": {},
   "outputs": [
    {
     "name": "stdout",
     "output_type": "stream",
     "text": [
      "['og', 'i', 'jeg', 'det', 'at', 'en', 'den', 'til', 'er', 'som', 'på', 'de', 'med', 'han', 'af', 'for', 'ikke', 'der', 'var', 'mig', 'sig', 'men', 'et', 'har', 'om', 'vi', 'min', 'havde', 'ham', 'hun', 'nu', 'over', 'da', 'fra', 'du', 'ud', 'sin', 'dem', 'os', 'op', 'man', 'hans', 'hvor', 'eller', 'hvad', 'skal', 'selv', 'her', 'alle', 'vil', 'blev', 'kunne', 'ind', 'når', 'være', 'dog', 'noget', 'ville', 'jo', 'deres', 'efter', 'ned', 'skulle', 'denne', 'end', 'dette', 'mit', 'også', 'under', 'have', 'dig', 'anden', 'hende', 'mine', 'alt', 'meget', 'sit', 'sine', 'vor', 'mod', 'disse', 'hvis', 'din', 'nogle', 'hos', 'blive', 'mange', 'ad', 'bliver', 'hendes', 'været', 'thi', 'jer', 'sådan']\n"
     ]
    }
   ],
   "source": [
    "from nltk.corpus import stopwords\n",
    "\n",
    "stop = stopwords.words('danish')\n",
    "print(stop)\n"
   ]
  },
  {
   "cell_type": "code",
   "execution_count": 11,
   "metadata": {
    "scrolled": true
   },
   "outputs": [
    {
     "data": {
      "text/html": [
       "<div>\n",
       "<style scoped>\n",
       "    .dataframe tbody tr th:only-of-type {\n",
       "        vertical-align: middle;\n",
       "    }\n",
       "\n",
       "    .dataframe tbody tr th {\n",
       "        vertical-align: top;\n",
       "    }\n",
       "\n",
       "    .dataframe thead th {\n",
       "        text-align: right;\n",
       "    }\n",
       "</style>\n",
       "<table border=\"1\" class=\"dataframe\">\n",
       "  <thead>\n",
       "    <tr style=\"text-align: right;\">\n",
       "      <th></th>\n",
       "      <th>title</th>\n",
       "      <th>stopwords</th>\n",
       "    </tr>\n",
       "  </thead>\n",
       "  <tbody>\n",
       "    <tr>\n",
       "      <th>0</th>\n",
       "      <td>fem danskere i touren sunweb udtager søren kragh</td>\n",
       "      <td>1</td>\n",
       "    </tr>\n",
       "    <tr>\n",
       "      <th>1</th>\n",
       "      <td>klæstrup gift i moské jeg er så lykkelig</td>\n",
       "      <td>3</td>\n",
       "    </tr>\n",
       "    <tr>\n",
       "      <th>2</th>\n",
       "      <td>teenager druknet efter skub i leg nu er kammer...</td>\n",
       "      <td>4</td>\n",
       "    </tr>\n",
       "    <tr>\n",
       "      <th>3</th>\n",
       "      <td>itfejl i europæisk flyveplansystem er rettet</td>\n",
       "      <td>2</td>\n",
       "    </tr>\n",
       "    <tr>\n",
       "      <th>4</th>\n",
       "      <td>voldtaget to timer på loftet over café  jeg vi...</td>\n",
       "      <td>8</td>\n",
       "    </tr>\n",
       "  </tbody>\n",
       "</table>\n",
       "</div>"
      ],
      "text/plain": [
       "                                               title  stopwords\n",
       "0   fem danskere i touren sunweb udtager søren kragh          1\n",
       "1           klæstrup gift i moské jeg er så lykkelig          3\n",
       "2  teenager druknet efter skub i leg nu er kammer...          4\n",
       "3       itfejl i europæisk flyveplansystem er rettet          2\n",
       "4  voldtaget to timer på loftet over café  jeg vi...          8"
      ]
     },
     "execution_count": 11,
     "metadata": {},
     "output_type": "execute_result"
    }
   ],
   "source": [
    "# Show amount of stop words\n",
    "df['stopwords'] = df['title'].apply(lambda x: len([x for x in x.split() if x in stop]))\n",
    "df[['title','stopwords']].head()"
   ]
  },
  {
   "cell_type": "code",
   "execution_count": 12,
   "metadata": {},
   "outputs": [
    {
     "data": {
      "text/plain": [
       "0     fem danskere touren sunweb udtager søren kragh\n",
       "1                    klæstrup gift moské så lykkelig\n",
       "2          teenager druknet skub leg kammerat sigtet\n",
       "3            itfejl europæisk flyveplansystem rettet\n",
       "4    voldtaget to timer loftet café straffe fortjent\n",
       "Name: title, dtype: object"
      ]
     },
     "execution_count": 12,
     "metadata": {},
     "output_type": "execute_result"
    }
   ],
   "source": [
    "# Remove stop words\n",
    "df['title'] = df['title'].apply(lambda x: \" \".join(x for x in x.split() if x not in stop))\n",
    "df['title'].head()"
   ]
  },
  {
   "cell_type": "code",
   "execution_count": 13,
   "metadata": {},
   "outputs": [
    {
     "data": {
      "text/plain": [
       "dansk      1380\n",
       "kan         973\n",
       "mand        854\n",
       "så          781\n",
       "ny          774\n",
       "får         720\n",
       "ved         618\n",
       "år          612\n",
       "danmark     599\n",
       "danske      595\n",
       "dtype: int64"
      ]
     },
     "execution_count": 13,
     "metadata": {},
     "output_type": "execute_result"
    }
   ],
   "source": [
    "# Get the 10 most common words\n",
    "### Should this be all words above X count? Or something else?\n",
    "freq = pd.Series(' '.join(df['title']).split()).value_counts()[:10]\n",
    "freq"
   ]
  },
  {
   "cell_type": "code",
   "execution_count": 14,
   "metadata": {
    "scrolled": true
   },
   "outputs": [
    {
     "data": {
      "text/plain": [
       "0     fem danskere touren sunweb udtager søren kragh\n",
       "1                       klæstrup gift moské lykkelig\n",
       "2          teenager druknet skub leg kammerat sigtet\n",
       "3            itfejl europæisk flyveplansystem rettet\n",
       "4    voldtaget to timer loftet café straffe fortjent\n",
       "Name: title, dtype: object"
      ]
     },
     "execution_count": 14,
     "metadata": {},
     "output_type": "execute_result"
    }
   ],
   "source": [
    "# Remove the 10 most common words as they're not useful when classifying our data \n",
    "# (This allows us to catch some additional \"stop words\" not in our stop word library)\n",
    "freq = list(freq.index)\n",
    "df['title'] = df['title'].apply(lambda x: \" \".join(x for x in x.split() if x not in freq))\n",
    "df['title'].head()"
   ]
  },
  {
   "cell_type": "code",
   "execution_count": 15,
   "metadata": {},
   "outputs": [
    {
     "data": {
      "text/html": [
       "<div>\n",
       "<style scoped>\n",
       "    .dataframe tbody tr th:only-of-type {\n",
       "        vertical-align: middle;\n",
       "    }\n",
       "\n",
       "    .dataframe tbody tr th {\n",
       "        vertical-align: top;\n",
       "    }\n",
       "\n",
       "    .dataframe thead th {\n",
       "        text-align: right;\n",
       "    }\n",
       "</style>\n",
       "<table border=\"1\" class=\"dataframe\">\n",
       "  <thead>\n",
       "    <tr style=\"text-align: right;\">\n",
       "      <th></th>\n",
       "      <th>title</th>\n",
       "      <th>popularity</th>\n",
       "      <th>stopwords</th>\n",
       "    </tr>\n",
       "  </thead>\n",
       "  <tbody>\n",
       "    <tr>\n",
       "      <th>0</th>\n",
       "      <td>fem danskere touren sunweb udtager søren kragh</td>\n",
       "      <td>0</td>\n",
       "      <td>1</td>\n",
       "    </tr>\n",
       "    <tr>\n",
       "      <th>1</th>\n",
       "      <td>klæstrup gift moské lykkelig</td>\n",
       "      <td>1</td>\n",
       "      <td>3</td>\n",
       "    </tr>\n",
       "    <tr>\n",
       "      <th>2</th>\n",
       "      <td>teenager druknet skub leg kammerat sigtet</td>\n",
       "      <td>1</td>\n",
       "      <td>4</td>\n",
       "    </tr>\n",
       "    <tr>\n",
       "      <th>3</th>\n",
       "      <td>itfejl europæisk flyveplansystem rettet</td>\n",
       "      <td>0</td>\n",
       "      <td>2</td>\n",
       "    </tr>\n",
       "    <tr>\n",
       "      <th>4</th>\n",
       "      <td>voldtaget to timer loftet café straffe fortjent</td>\n",
       "      <td>1</td>\n",
       "      <td>8</td>\n",
       "    </tr>\n",
       "    <tr>\n",
       "      <th>...</th>\n",
       "      <td>...</td>\n",
       "      <td>...</td>\n",
       "      <td>...</td>\n",
       "    </tr>\n",
       "    <tr>\n",
       "      <th>31513</th>\n",
       "      <td>helt hest politiet mangler borgernes hjælp nye...</td>\n",
       "      <td>0</td>\n",
       "      <td>2</td>\n",
       "    </tr>\n",
       "    <tr>\n",
       "      <th>31514</th>\n",
       "      <td>kæmpe ballade pokalfinale politiet brugte tåre...</td>\n",
       "      <td>1</td>\n",
       "      <td>2</td>\n",
       "    </tr>\n",
       "    <tr>\n",
       "      <th>31515</th>\n",
       "      <td>lavede sexbånd kardashian videre</td>\n",
       "      <td>0</td>\n",
       "      <td>3</td>\n",
       "    </tr>\n",
       "    <tr>\n",
       "      <th>31516</th>\n",
       "      <td>politiet bekræfter ronaldo afhøres</td>\n",
       "      <td>1</td>\n",
       "      <td>2</td>\n",
       "    </tr>\n",
       "    <tr>\n",
       "      <th>31517</th>\n",
       "      <td>superligastjerne bror forsvandt fundet død</td>\n",
       "      <td>1</td>\n",
       "      <td>3</td>\n",
       "    </tr>\n",
       "  </tbody>\n",
       "</table>\n",
       "<p>31518 rows × 3 columns</p>\n",
       "</div>"
      ],
      "text/plain": [
       "                                                   title  popularity  \\\n",
       "0         fem danskere touren sunweb udtager søren kragh           0   \n",
       "1                           klæstrup gift moské lykkelig           1   \n",
       "2              teenager druknet skub leg kammerat sigtet           1   \n",
       "3                itfejl europæisk flyveplansystem rettet           0   \n",
       "4        voldtaget to timer loftet café straffe fortjent           1   \n",
       "...                                                  ...         ...   \n",
       "31513  helt hest politiet mangler borgernes hjælp nye...           0   \n",
       "31514  kæmpe ballade pokalfinale politiet brugte tåre...           1   \n",
       "31515                   lavede sexbånd kardashian videre           0   \n",
       "31516                 politiet bekræfter ronaldo afhøres           1   \n",
       "31517         superligastjerne bror forsvandt fundet død           1   \n",
       "\n",
       "       stopwords  \n",
       "0              1  \n",
       "1              3  \n",
       "2              4  \n",
       "3              2  \n",
       "4              8  \n",
       "...          ...  \n",
       "31513          2  \n",
       "31514          2  \n",
       "31515          3  \n",
       "31516          2  \n",
       "31517          3  \n",
       "\n",
       "[31518 rows x 3 columns]"
      ]
     },
     "execution_count": 15,
     "metadata": {},
     "output_type": "execute_result"
    }
   ],
   "source": [
    "df['title'].nunique() #Distinct values\n",
    "df"
   ]
  },
  {
   "cell_type": "code",
   "execution_count": 16,
   "metadata": {},
   "outputs": [
    {
     "data": {
      "text/plain": [
       "1    15799\n",
       "0    15719\n",
       "Name: popularity, dtype: int64"
      ]
     },
     "execution_count": 16,
     "metadata": {},
     "output_type": "execute_result"
    }
   ],
   "source": [
    "df.popularity.value_counts()"
   ]
  },
  {
   "cell_type": "markdown",
   "metadata": {},
   "source": [
    "# Iteration 1 - DummyC, LogisticRegression, LinearSVC, RandomForest, DecisionTreeClassifier"
   ]
  },
  {
   "cell_type": "code",
   "execution_count": 17,
   "metadata": {},
   "outputs": [
    {
     "data": {
      "text/plain": [
       "((23638,), (7880,), (23638,), (7880,))"
      ]
     },
     "execution_count": 17,
     "metadata": {},
     "output_type": "execute_result"
    }
   ],
   "source": [
    "# Split our training set into a 75% 25% train test split\n",
    "from sklearn.model_selection import train_test_split\n",
    "X_train, X_test, y_train, y_test = train_test_split(df.title, df.popularity, random_state=42)\n",
    "X_train.shape, X_test.shape, y_train.shape, y_test.shape"
   ]
  },
  {
   "cell_type": "code",
   "execution_count": 18,
   "metadata": {},
   "outputs": [],
   "source": [
    "# Use TF-IDF method\n",
    "from sklearn.feature_extraction.text import TfidfVectorizer\n",
    "vect_new = TfidfVectorizer(min_df=5).fit(X_train)\n",
    "tfid_x_train = vect_new.transform(X_train)\n",
    "tfid_x_test = vect_new.transform(X_test)"
   ]
  },
  {
   "cell_type": "code",
   "execution_count": 19,
   "metadata": {},
   "outputs": [
    {
     "name": "stdout",
     "output_type": "stream",
     "text": [
      "Dummy Classifer\n",
      "Training set score: 0.502\n",
      "Test set score: 0.498\n",
      "-------------------------------------------\n",
      "Logistic Regression\n",
      "Training set score: 0.763\n",
      "Test set score: 0.672\n",
      "-------------------------------------------\n",
      "Linear SVC\n",
      "Training set score: 0.779\n",
      "Test set score: 0.658\n",
      "-------------------------------------------\n",
      "Decision Tree\n",
      "Training set score: 0.985\n",
      "Test set score: 0.616\n",
      "-------------------------------------------\n",
      "Random Forest\n",
      "Training set score: 0.985\n",
      "Test set score: 0.646\n",
      "-------------------------------------------\n"
     ]
    }
   ],
   "source": [
    "from sklearn.linear_model import LogisticRegression\n",
    "from sklearn.svm import LinearSVC\n",
    "from sklearn.dummy import DummyClassifier\n",
    "from sklearn.tree import DecisionTreeClassifier\n",
    "from sklearn.ensemble import RandomForestClassifier\n",
    "\n",
    "dummyC = DummyClassifier(strategy=\"most_frequent\").fit(tfid_x_train, y_train)\n",
    "print(\"Dummy Classifer\")\n",
    "print(\"Training set score: {:.3f}\".format(dummyC.score(tfid_x_train, y_train)))\n",
    "print(\"Test set score: {:.3f}\".format(dummyC.score(tfid_x_test, y_test)))\n",
    "print(\"-------------------------------------------\")\n",
    "\n",
    "logreg = LogisticRegression(max_iter=10000).fit(tfid_x_train, y_train)\n",
    "print(\"Logistic Regression\")\n",
    "print(\"Training set score: {:.3f}\".format(logreg.score(tfid_x_train, y_train)))\n",
    "print(\"Test set score: {:.3f}\".format(logreg.score(tfid_x_test, y_test)))\n",
    "print(\"-------------------------------------------\")\n",
    "\n",
    "linearsvc = LinearSVC(max_iter=10000).fit(tfid_x_train, y_train)\n",
    "print(\"Linear SVC\")\n",
    "print(\"Training set score: {:.3f}\".format(linearsvc.score(tfid_x_train, y_train)))\n",
    "print(\"Test set score: {:.3f}\".format(linearsvc.score(tfid_x_test, y_test)))\n",
    "print(\"-------------------------------------------\")\n",
    "\n",
    "dtc = DecisionTreeClassifier().fit(tfid_x_train, y_train)\n",
    "print(\"Decision Tree\")\n",
    "print(\"Training set score: {:.3f}\".format(dtc.score(tfid_x_train, y_train)))\n",
    "print(\"Test set score: {:.3f}\".format(dtc.score(tfid_x_test, y_test)))\n",
    "print(\"-------------------------------------------\")\n",
    "\n",
    "rfc = RandomForestClassifier().fit(tfid_x_train, y_train)\n",
    "print(\"Random Forest\")\n",
    "print(\"Training set score: {:.3f}\".format(rfc.score(tfid_x_train, y_train)))\n",
    "print(\"Test set score: {:.3f}\".format(rfc.score(tfid_x_test, y_test)))\n",
    "print(\"-------------------------------------------\")"
   ]
  },
  {
   "cell_type": "markdown",
   "metadata": {},
   "source": [
    "# Iteration 2 - Lemmatization & Stemming + Ngram testing"
   ]
  },
  {
   "cell_type": "code",
   "execution_count": 20,
   "metadata": {},
   "outputs": [],
   "source": [
    "# Due to Lemmatization & Stemming not being used in the final version, \n",
    "# please see Lemmatization_Stemming.ipynb"
   ]
  },
  {
   "cell_type": "markdown",
   "metadata": {},
   "source": [
    "### Unigrams and Bigrams"
   ]
  },
  {
   "cell_type": "code",
   "execution_count": 21,
   "metadata": {},
   "outputs": [],
   "source": [
    "vect_new = TfidfVectorizer(min_df=5, ngram_range=(1,2)).fit(X_train)\n",
    "tfid_x_train = vect_new.transform(X_train)\n",
    "tfid_x_test = vect_new.transform(X_test)"
   ]
  },
  {
   "cell_type": "code",
   "execution_count": 22,
   "metadata": {},
   "outputs": [
    {
     "name": "stdout",
     "output_type": "stream",
     "text": [
      "Logistic Regression\n",
      "Training set score: 0.768\n",
      "Test set score: 0.669\n",
      "-------------------------------------------\n",
      "Linear SVC\n",
      "Training set score: 0.788\n",
      "Test set score: 0.659\n",
      "-------------------------------------------\n",
      "Random Forest\n",
      "Training set score: 0.985\n",
      "Test set score: 0.645\n",
      "-------------------------------------------\n"
     ]
    }
   ],
   "source": [
    "logreg = LogisticRegression(max_iter=10000).fit(tfid_x_train, y_train)\n",
    "print(\"Logistic Regression\")\n",
    "print(\"Training set score: {:.3f}\".format(logreg.score(tfid_x_train, y_train)))\n",
    "print(\"Test set score: {:.3f}\".format(logreg.score(tfid_x_test, y_test)))\n",
    "print(\"-------------------------------------------\")\n",
    "\n",
    "linearsvc = LinearSVC(max_iter=10000).fit(tfid_x_train, y_train)\n",
    "print(\"Linear SVC\")\n",
    "print(\"Training set score: {:.3f}\".format(linearsvc.score(tfid_x_train, y_train)))\n",
    "print(\"Test set score: {:.3f}\".format(linearsvc.score(tfid_x_test, y_test)))\n",
    "print(\"-------------------------------------------\")\n",
    "\n",
    "rfc = RandomForestClassifier().fit(tfid_x_train, y_train)\n",
    "print(\"Random Forest\")\n",
    "print(\"Training set score: {:.3f}\".format(rfc.score(tfid_x_train, y_train)))\n",
    "print(\"Test set score: {:.3f}\".format(rfc.score(tfid_x_test, y_test)))\n",
    "print(\"-------------------------------------------\")"
   ]
  },
  {
   "cell_type": "markdown",
   "metadata": {},
   "source": [
    "### Unigrams, Bigrams and Trigrams"
   ]
  },
  {
   "cell_type": "code",
   "execution_count": 23,
   "metadata": {},
   "outputs": [],
   "source": [
    "vect_new = TfidfVectorizer(min_df=5, ngram_range=(1,3)).fit(X_train)\n",
    "tfid_x_train = vect_new.transform(X_train)\n",
    "tfid_x_test = vect_new.transform(X_test)"
   ]
  },
  {
   "cell_type": "code",
   "execution_count": 24,
   "metadata": {},
   "outputs": [
    {
     "name": "stdout",
     "output_type": "stream",
     "text": [
      "Logistic Regression\n",
      "Training set score: 0.768\n",
      "Test set score: 0.670\n",
      "-------------------------------------------\n",
      "Linear SVC\n",
      "Training set score: 0.788\n",
      "Test set score: 0.658\n",
      "-------------------------------------------\n",
      "Random Forest\n",
      "Training set score: 0.985\n",
      "Test set score: 0.645\n",
      "-------------------------------------------\n"
     ]
    }
   ],
   "source": [
    "logreg = LogisticRegression(max_iter=10000).fit(tfid_x_train, y_train)\n",
    "print(\"Logistic Regression\")\n",
    "print(\"Training set score: {:.3f}\".format(logreg.score(tfid_x_train, y_train)))\n",
    "print(\"Test set score: {:.3f}\".format(logreg.score(tfid_x_test, y_test)))\n",
    "print(\"-------------------------------------------\")\n",
    "\n",
    "linearsvc = LinearSVC(max_iter=10000).fit(tfid_x_train, y_train)\n",
    "print(\"Linear SVC\")\n",
    "print(\"Training set score: {:.3f}\".format(linearsvc.score(tfid_x_train, y_train)))\n",
    "print(\"Test set score: {:.3f}\".format(linearsvc.score(tfid_x_test, y_test)))\n",
    "print(\"-------------------------------------------\")\n",
    "\n",
    "rfc = RandomForestClassifier().fit(tfid_x_train, y_train)\n",
    "print(\"Random Forest\")\n",
    "print(\"Training set score: {:.3f}\".format(rfc.score(tfid_x_train, y_train)))\n",
    "print(\"Test set score: {:.3f}\".format(rfc.score(tfid_x_test, y_test)))\n",
    "print(\"-------------------------------------------\")"
   ]
  },
  {
   "cell_type": "markdown",
   "metadata": {},
   "source": [
    "### Bigrams and Trigrams"
   ]
  },
  {
   "cell_type": "code",
   "execution_count": 25,
   "metadata": {},
   "outputs": [],
   "source": [
    "vect_new = TfidfVectorizer(min_df=5, ngram_range=(2,3)).fit(X_train)\n",
    "tfid_x_train = vect_new.transform(X_train)\n",
    "tfid_x_test = vect_new.transform(X_test)"
   ]
  },
  {
   "cell_type": "code",
   "execution_count": 26,
   "metadata": {},
   "outputs": [
    {
     "name": "stdout",
     "output_type": "stream",
     "text": [
      "Logistic Regression\n",
      "Training set score: 0.557\n",
      "Test set score: 0.543\n",
      "-------------------------------------------\n",
      "Linear SVC\n",
      "Training set score: 0.557\n",
      "Test set score: 0.542\n",
      "-------------------------------------------\n",
      "Random Forest\n",
      "Training set score: 0.562\n",
      "Test set score: 0.541\n",
      "-------------------------------------------\n"
     ]
    }
   ],
   "source": [
    "logreg = LogisticRegression(max_iter=10000).fit(tfid_x_train, y_train)\n",
    "print(\"Logistic Regression\")\n",
    "print(\"Training set score: {:.3f}\".format(logreg.score(tfid_x_train, y_train)))\n",
    "print(\"Test set score: {:.3f}\".format(logreg.score(tfid_x_test, y_test)))\n",
    "print(\"-------------------------------------------\")\n",
    "\n",
    "linearsvc = LinearSVC(max_iter=10000).fit(tfid_x_train, y_train)\n",
    "print(\"Linear SVC\")\n",
    "print(\"Training set score: {:.3f}\".format(linearsvc.score(tfid_x_train, y_train)))\n",
    "print(\"Test set score: {:.3f}\".format(linearsvc.score(tfid_x_test, y_test)))\n",
    "print(\"-------------------------------------------\")\n",
    "\n",
    "rfc = RandomForestClassifier().fit(tfid_x_train, y_train)\n",
    "print(\"Random Forest\")\n",
    "print(\"Training set score: {:.3f}\".format(rfc.score(tfid_x_train, y_train)))\n",
    "print(\"Test set score: {:.3f}\".format(rfc.score(tfid_x_test, y_test)))\n",
    "print(\"-------------------------------------------\")"
   ]
  },
  {
   "cell_type": "markdown",
   "metadata": {},
   "source": [
    "### Only Bigrams"
   ]
  },
  {
   "cell_type": "code",
   "execution_count": 27,
   "metadata": {},
   "outputs": [],
   "source": [
    "vect_new = TfidfVectorizer(min_df=5, ngram_range=(2,2)).fit(X_train)\n",
    "tfid_x_train = vect_new.transform(X_train)\n",
    "tfid_x_test = vect_new.transform(X_test)"
   ]
  },
  {
   "cell_type": "code",
   "execution_count": 28,
   "metadata": {},
   "outputs": [
    {
     "name": "stdout",
     "output_type": "stream",
     "text": [
      "Logistic Regression\n",
      "Training set score: 0.556\n",
      "Test set score: 0.543\n",
      "-------------------------------------------\n",
      "Linear SVC\n",
      "Training set score: 0.557\n",
      "Test set score: 0.543\n",
      "-------------------------------------------\n",
      "Random Forest\n",
      "Training set score: 0.562\n",
      "Test set score: 0.541\n",
      "-------------------------------------------\n"
     ]
    }
   ],
   "source": [
    "logreg = LogisticRegression(max_iter=10000).fit(tfid_x_train, y_train)\n",
    "print(\"Logistic Regression\")\n",
    "print(\"Training set score: {:.3f}\".format(logreg.score(tfid_x_train, y_train)))\n",
    "print(\"Test set score: {:.3f}\".format(logreg.score(tfid_x_test, y_test)))\n",
    "print(\"-------------------------------------------\")\n",
    "\n",
    "linearsvc = LinearSVC(max_iter=10000).fit(tfid_x_train, y_train)\n",
    "print(\"Linear SVC\")\n",
    "print(\"Training set score: {:.3f}\".format(linearsvc.score(tfid_x_train, y_train)))\n",
    "print(\"Test set score: {:.3f}\".format(linearsvc.score(tfid_x_test, y_test)))\n",
    "print(\"-------------------------------------------\")\n",
    "\n",
    "rfc = RandomForestClassifier().fit(tfid_x_train, y_train)\n",
    "print(\"Random Forest\")\n",
    "print(\"Training set score: {:.3f}\".format(rfc.score(tfid_x_train, y_train)))\n",
    "print(\"Test set score: {:.3f}\".format(rfc.score(tfid_x_test, y_test)))\n",
    "print(\"-------------------------------------------\")"
   ]
  },
  {
   "cell_type": "markdown",
   "metadata": {},
   "source": [
    "### Only Trigrams"
   ]
  },
  {
   "cell_type": "code",
   "execution_count": 29,
   "metadata": {},
   "outputs": [],
   "source": [
    "vect_new = TfidfVectorizer(min_df=5, ngram_range=(3,3)).fit(X_train)\n",
    "tfid_x_train = vect_new.transform(X_train)\n",
    "tfid_x_test = vect_new.transform(X_test)"
   ]
  },
  {
   "cell_type": "code",
   "execution_count": 30,
   "metadata": {},
   "outputs": [
    {
     "name": "stdout",
     "output_type": "stream",
     "text": [
      "Logistic Regression\n",
      "Training set score: 0.505\n",
      "Test set score: 0.500\n",
      "-------------------------------------------\n",
      "Linear SVC\n",
      "Training set score: 0.505\n",
      "Test set score: 0.500\n",
      "-------------------------------------------\n",
      "Random Forest\n",
      "Training set score: 0.505\n",
      "Test set score: 0.500\n",
      "-------------------------------------------\n"
     ]
    }
   ],
   "source": [
    "logreg = LogisticRegression(max_iter=10000).fit(tfid_x_train, y_train)\n",
    "print(\"Logistic Regression\")\n",
    "print(\"Training set score: {:.3f}\".format(logreg.score(tfid_x_train, y_train)))\n",
    "print(\"Test set score: {:.3f}\".format(logreg.score(tfid_x_test, y_test)))\n",
    "print(\"-------------------------------------------\")\n",
    "\n",
    "linearsvc = LinearSVC(max_iter=10000).fit(tfid_x_train, y_train)\n",
    "print(\"Linear SVC\")\n",
    "print(\"Training set score: {:.3f}\".format(linearsvc.score(tfid_x_train, y_train)))\n",
    "print(\"Test set score: {:.3f}\".format(linearsvc.score(tfid_x_test, y_test)))\n",
    "print(\"-------------------------------------------\")\n",
    "\n",
    "rfc = RandomForestClassifier().fit(tfid_x_train, y_train)\n",
    "print(\"Random Forest\")\n",
    "print(\"Training set score: {:.3f}\".format(rfc.score(tfid_x_train, y_train)))\n",
    "print(\"Test set score: {:.3f}\".format(rfc.score(tfid_x_test, y_test)))\n",
    "print(\"-------------------------------------------\")"
   ]
  },
  {
   "cell_type": "markdown",
   "metadata": {},
   "source": [
    "# Iteration 3 - Improving LogisticRegression, LinearSVC and RandomForest"
   ]
  },
  {
   "cell_type": "code",
   "execution_count": 31,
   "metadata": {},
   "outputs": [],
   "source": [
    "#Resetting tfid_x_train and tfid_x_test \n",
    "vect_new = TfidfVectorizer(min_df=5).fit(X_train)\n",
    "tfid_x_train = vect_new.transform(X_train)\n",
    "tfid_x_test = vect_new.transform(X_test)"
   ]
  },
  {
   "cell_type": "markdown",
   "metadata": {},
   "source": [
    "## RandomForest"
   ]
  },
  {
   "cell_type": "code",
   "execution_count": 32,
   "metadata": {},
   "outputs": [],
   "source": [
    "# Due to the runtime (and the fact it ends up worse than LogReg & LinearSVC) \n",
    "# of RandomForest optimising, it has been added in a separate file \n",
    "# called \"RandomForest.ipynb\""
   ]
  },
  {
   "cell_type": "markdown",
   "metadata": {},
   "source": [
    "## LogisticRegression"
   ]
  },
  {
   "cell_type": "code",
   "execution_count": 33,
   "metadata": {},
   "outputs": [
    {
     "name": "stdout",
     "output_type": "stream",
     "text": [
      "[0.0001, 0.0005, 0.001, 0.005, 0.01, 0.05, 0.1, 0.5, 1.0, 5.0, 10.0, 50.0, 100.0]\n"
     ]
    }
   ],
   "source": [
    "C_values = []\n",
    "starting_value = 0.0001\n",
    "ending_value = 100\n",
    "current_value = starting_value\n",
    "multiplier1 = 5\n",
    "multiplier2 = 2\n",
    "lastMultiplication = 0\n",
    "while current_value <= ending_value:\n",
    "    C_values.append(current_value)\n",
    "    if lastMultiplication == multiplier1:\n",
    "        current_value = current_value * multiplier2\n",
    "        lastMultiplication = multiplier2\n",
    "    else:\n",
    "        current_value = current_value * multiplier1\n",
    "        lastMultiplication = multiplier1\n",
    "\n",
    "print(C_values)"
   ]
  },
  {
   "cell_type": "code",
   "execution_count": 34,
   "metadata": {},
   "outputs": [
    {
     "name": "stderr",
     "output_type": "stream",
     "text": [
      "c:\\users\\laust\\appdata\\local\\programs\\python\\python38\\lib\\site-packages\\sklearn\\externals\\six.py:28: FutureWarning: The module is deprecated in version 0.21 and will be removed in version 0.23 since we've dropped support for Python 2.7. Please rely on the official version of six (https://pypi.org/project/six/).\n",
      "  warnings.warn(\"The module is deprecated in version 0.21 and will be removed \"\n",
      "c:\\users\\laust\\appdata\\local\\programs\\python\\python38\\lib\\site-packages\\sklearn\\externals\\joblib\\__init__.py:15: FutureWarning: sklearn.externals.joblib is deprecated in 0.21 and will be removed in 0.23. Please import this functionality directly from joblib, which can be installed with: pip install joblib. If this warning is raised when loading pickled models, you may need to re-serialize those models with scikit-learn 0.21+.\n",
      "  warnings.warn(msg, category=FutureWarning)\n"
     ]
    },
    {
     "name": "stdout",
     "output_type": "stream",
     "text": [
      "Best cross-validation score: 0.6658\n",
      "Best parameters:\n",
      "{'logisticregression__C': 0.5}\n"
     ]
    },
    {
     "data": {
      "image/png": "[encoded data removed]",
      "text/plain": [
       "<Figure size 1080x360 with 1 Axes>"
      ]
     },
     "metadata": {
      "needs_background": "light"
     },
     "output_type": "display_data"
    }
   ],
   "source": [
    "from sklearn.pipeline import make_pipeline\n",
    "from sklearn.model_selection import GridSearchCV\n",
    "import mglearn\n",
    "\n",
    "pipe = make_pipeline(TfidfVectorizer(min_df=5), LogisticRegression(max_iter=10000))\n",
    "\n",
    "#Test with 5 different values of C\n",
    "param_grid = {\"logisticregression__C\": C_values}\n",
    "\n",
    "#Cross validate with 5 folds for each value of C\n",
    "grid = GridSearchCV(pipe, param_grid, cv=5)\n",
    "grid.fit(X_train, y_train)\n",
    "\n",
    "#Print best scores\n",
    "print(\"Best cross-validation score: {:.4f}\".format(grid.best_score_))\n",
    "print(\"Best parameters:\\n{}\".format(grid.best_params_))\n",
    "\n",
    "#Get the best features (both positive and negative) based on their coefficient values\n",
    "vect = grid.best_estimator_.named_steps['tfidfvectorizer']\n",
    "feature_names = np.array(vect.get_feature_names())\n",
    "coef = grid.best_estimator_.named_steps['logisticregression'].coef_\n",
    "\n",
    "#Visualize the coefficients\n",
    "mglearn.tools.visualize_coefficients(coef, feature_names, n_top_features=20)"
   ]
  },
  {
   "cell_type": "markdown",
   "metadata": {},
   "source": [
    "## LinearSVC"
   ]
  },
  {
   "cell_type": "code",
   "execution_count": 35,
   "metadata": {},
   "outputs": [
    {
     "name": "stdout",
     "output_type": "stream",
     "text": [
      "[0.0001, 0.0005, 0.001, 0.005, 0.01, 0.05, 0.1, 0.5, 1.0, 5.0, 10.0, 50.0, 100.0]\n"
     ]
    }
   ],
   "source": [
    "C_values = []\n",
    "starting_value = 0.0001\n",
    "ending_value = 100\n",
    "current_value = starting_value\n",
    "multiplier1 = 5\n",
    "multiplier2 = 2\n",
    "lastMultiplication = 0\n",
    "while current_value <= ending_value:\n",
    "    C_values.append(current_value)\n",
    "    if lastMultiplication == multiplier1:\n",
    "        current_value = current_value * multiplier2\n",
    "        lastMultiplication = multiplier2\n",
    "    else:\n",
    "        current_value = current_value * multiplier1\n",
    "        lastMultiplication = multiplier1\n",
    "\n",
    "print(C_values)"
   ]
  },
  {
   "cell_type": "code",
   "execution_count": 36,
   "metadata": {},
   "outputs": [
    {
     "name": "stdout",
     "output_type": "stream",
     "text": [
      "Best cross-validation score: 0.6669\n",
      "Best parameters:\n",
      "{'linearsvc__C': 0.05}\n"
     ]
    },
    {
     "data": {
      "image/png": "[encoded data removed]",
      "text/plain": [
       "<Figure size 1080x360 with 1 Axes>"
      ]
     },
     "metadata": {
      "needs_background": "light"
     },
     "output_type": "display_data"
    }
   ],
   "source": [
    "pipe = make_pipeline(TfidfVectorizer(min_df=5), LinearSVC(max_iter=10000))\n",
    "\n",
    "#Test with 5 different values of C\n",
    "param_grid = {\"linearsvc__C\": C_values}\n",
    "\n",
    "#Cross validate with 5 folds for each value of C\n",
    "grid = GridSearchCV(pipe, param_grid, cv=5)\n",
    "grid.fit(X_train, y_train)\n",
    "\n",
    "#Print best scores\n",
    "print(\"Best cross-validation score: {:.4f}\".format(grid.best_score_))\n",
    "print(\"Best parameters:\\n{}\".format(grid.best_params_))\n",
    "\n",
    "#Get the best features (both positive and negative) based on their coefficient values\n",
    "vect = grid.best_estimator_.named_steps['tfidfvectorizer']\n",
    "feature_names = np.array(vect.get_feature_names())\n",
    "coef = grid.best_estimator_.named_steps['linearsvc'].coef_\n",
    "\n",
    "#Visualize the coefficients\n",
    "mglearn.tools.visualize_coefficients(coef, feature_names, n_top_features=20)"
   ]
  },
  {
   "cell_type": "markdown",
   "metadata": {},
   "source": [
    "# Evaluation"
   ]
  },
  {
   "cell_type": "code",
   "execution_count": 38,
   "metadata": {},
   "outputs": [
    {
     "name": "stdout",
     "output_type": "stream",
     "text": [
      "Dummy Classifier\n",
      "Training set score: 0.502\n",
      "Test set score: 0.498\n",
      "\n",
      "Confusion Matrix\n",
      "[[2595 1362]\n",
      " [1236 2687]]\n",
      "\n",
      "----------------------------------\n",
      "\n",
      "Logistic Regression\n",
      "Training set score: 0.753\n",
      "Test set score: 0.670\n",
      "\n",
      "Confusion Matrix\n",
      "[[2595 1362]\n",
      " [1236 2687]]\n",
      "\n",
      "----------------------------------\n",
      "\n",
      "Linear SVC\n",
      "Training set score: 0.751\n",
      "Test set score: 0.672\n",
      "\n",
      "Confusion Matrix\n",
      "[[2601 1356]\n",
      " [1230 2693]]\n"
     ]
    }
   ],
   "source": [
    "from sklearn.metrics import confusion_matrix\n",
    "logreg = LogisticRegression(C=0.5).fit(tfid_x_train, y_train)\n",
    "linearsvc = LinearSVC(C=0.05).fit(tfid_x_train, y_train)\n",
    "pred_logreg = logreg.predict(tfid_x_test)\n",
    "pred_linearsvc = linearsvc.predict(tfid_x_test)\n",
    "logreg_confusion = confusion_matrix(y_test, pred_logreg)\n",
    "linearsvc_confusion = confusion_matrix(y_test, pred_linearsvc)\n",
    "dummyc_confusion = confusion_matrix(y_test, dummyC.predict(tfid_x_test))\n",
    "print(\"Dummy Classifier\")\n",
    "print(\"Training set score: {:.3f}\".format(dummyC.score(tfid_x_train, y_train)))\n",
    "print(\"Test set score: {:.3f}\".format(dummyC.score(tfid_x_test, y_test)))\n",
    "print(\"\\nConfusion Matrix\")\n",
    "print(\"{}\".format(logreg_confusion))\n",
    "print(\"\\n----------------------------------\\n\")\n",
    "print(\"Logistic Regression\")\n",
    "print(\"Training set score: {:.3f}\".format(logreg.score(tfid_x_train, y_train)))\n",
    "print(\"Test set score: {:.3f}\".format(logreg.score(tfid_x_test, y_test)))\n",
    "print(\"\\nConfusion Matrix\")\n",
    "print(\"{}\".format(logreg_confusion))\n",
    "print(\"\\n----------------------------------\\n\")\n",
    "print(\"Linear SVC\")\n",
    "print(\"Training set score: {:.3f}\".format(linearsvc.score(tfid_x_train, y_train)))\n",
    "print(\"Test set score: {:.3f}\".format(linearsvc.score(tfid_x_test, y_test)))\n",
    "print(\"\\nConfusion Matrix\")\n",
    "print(\"{}\".format(linearsvc_confusion))"
   ]
  },
  {
   "cell_type": "code",
   "execution_count": null,
   "metadata": {},
   "outputs": [],
   "source": []
  }
 ],
 "metadata": {
  "kernelspec": {
   "display_name": "Python 3",
   "language": "python",
   "name": "python3"
  },
  "language_info": {
   "codemirror_mode": {
    "name": "ipython",
    "version": 3
   },
   "file_extension": ".py",
   "mimetype": "text/x-python",
   "name": "python",
   "nbconvert_exporter": "python",
   "pygments_lexer": "ipython3",
   "version": "3.8.2"
  }
 },
 "nbformat": 4,
 "nbformat_minor": 4
}
