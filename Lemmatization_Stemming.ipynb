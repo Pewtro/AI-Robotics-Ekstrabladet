{
 "cells": [
  {
   "cell_type": "markdown",
   "metadata": {},
   "source": [
    "# Preprocessing"
   ]
  },
  {
   "cell_type": "code",
   "execution_count": 1,
   "metadata": {},
   "outputs": [],
   "source": [
    "import pandas as pd\n",
    "import numpy as np\n",
    "#Used for pretty printing\n",
    "from pprint import pprint\n"
   ]
  },
  {
   "cell_type": "code",
   "execution_count": 2,
   "metadata": {},
   "outputs": [
    {
     "data": {
      "text/html": [
       "<div>\n",
       "<style scoped>\n",
       "    .dataframe tbody tr th:only-of-type {\n",
       "        vertical-align: middle;\n",
       "    }\n",
       "\n",
       "    .dataframe tbody tr th {\n",
       "        vertical-align: top;\n",
       "    }\n",
       "\n",
       "    .dataframe thead th {\n",
       "        text-align: right;\n",
       "    }\n",
       "</style>\n",
       "<table border=\"1\" class=\"dataframe\">\n",
       "  <thead>\n",
       "    <tr style=\"text-align: right;\">\n",
       "      <th></th>\n",
       "      <th>Unnamed: 0</th>\n",
       "      <th>title</th>\n",
       "      <th>homesection</th>\n",
       "      <th>publishdate</th>\n",
       "      <th>pageviews</th>\n",
       "      <th>popularity</th>\n",
       "    </tr>\n",
       "  </thead>\n",
       "  <tbody>\n",
       "    <tr>\n",
       "      <th>0</th>\n",
       "      <td>18976</td>\n",
       "      <td>Fem danskere i Touren: Sunweb udtager Søren Kragh</td>\n",
       "      <td>Cykling</td>\n",
       "      <td>2018-07-02 17:41:01 UTC</td>\n",
       "      <td>1499</td>\n",
       "      <td>0</td>\n",
       "    </tr>\n",
       "    <tr>\n",
       "      <th>1</th>\n",
       "      <td>31594</td>\n",
       "      <td>Klæstrup gift i moské: Jeg er så lykkelig</td>\n",
       "      <td>Danske kendte</td>\n",
       "      <td>2018-08-13 17:40:39 UTC</td>\n",
       "      <td>227329</td>\n",
       "      <td>1</td>\n",
       "    </tr>\n",
       "    <tr>\n",
       "      <th>2</th>\n",
       "      <td>10062</td>\n",
       "      <td>Teenager druknet efter skub i leg: Nu er kamme...</td>\n",
       "      <td>112</td>\n",
       "      <td>2018-06-02 09:57:02 UTC</td>\n",
       "      <td>85556</td>\n",
       "      <td>1</td>\n",
       "    </tr>\n",
       "    <tr>\n",
       "      <th>3</th>\n",
       "      <td>23137</td>\n",
       "      <td>It-fejl i europæisk flyveplansystem er rettet</td>\n",
       "      <td>Samfund</td>\n",
       "      <td>2018-04-04 00:10:44 UTC</td>\n",
       "      <td>1346</td>\n",
       "      <td>0</td>\n",
       "    </tr>\n",
       "    <tr>\n",
       "      <th>4</th>\n",
       "      <td>7639</td>\n",
       "      <td>Voldtaget to timer på loftet over café: - Jeg ...</td>\n",
       "      <td>112</td>\n",
       "      <td>2018-08-06 20:42:12 UTC</td>\n",
       "      <td>303642</td>\n",
       "      <td>1</td>\n",
       "    </tr>\n",
       "  </tbody>\n",
       "</table>\n",
       "</div>"
      ],
      "text/plain": [
       "   Unnamed: 0                                              title  \\\n",
       "0       18976  Fem danskere i Touren: Sunweb udtager Søren Kragh   \n",
       "1       31594          Klæstrup gift i moské: Jeg er så lykkelig   \n",
       "2       10062  Teenager druknet efter skub i leg: Nu er kamme...   \n",
       "3       23137      It-fejl i europæisk flyveplansystem er rettet   \n",
       "4        7639  Voldtaget to timer på loftet over café: - Jeg ...   \n",
       "\n",
       "     homesection              publishdate  pageviews  popularity  \n",
       "0        Cykling  2018-07-02 17:41:01 UTC       1499           0  \n",
       "1  Danske kendte  2018-08-13 17:40:39 UTC     227329           1  \n",
       "2            112  2018-06-02 09:57:02 UTC      85556           1  \n",
       "3        Samfund  2018-04-04 00:10:44 UTC       1346           0  \n",
       "4            112  2018-08-06 20:42:12 UTC     303642           1  "
      ]
     },
     "execution_count": 2,
     "metadata": {},
     "output_type": "execute_result"
    }
   ],
   "source": [
    "df = pd.read_csv(\"Data/headlinesViews.csv\")\n",
    "df.head()"
   ]
  },
  {
   "cell_type": "code",
   "execution_count": 3,
   "metadata": {},
   "outputs": [
    {
     "data": {
      "text/plain": [
       "(31518, 6)"
      ]
     },
     "execution_count": 3,
     "metadata": {},
     "output_type": "execute_result"
    }
   ],
   "source": [
    "df.shape"
   ]
  },
  {
   "cell_type": "code",
   "execution_count": 4,
   "metadata": {},
   "outputs": [
    {
     "data": {
      "text/plain": [
       "1    15799\n",
       "0    15719\n",
       "Name: popularity, dtype: int64"
      ]
     },
     "execution_count": 4,
     "metadata": {},
     "output_type": "execute_result"
    }
   ],
   "source": [
    "df.popularity.value_counts()"
   ]
  },
  {
   "cell_type": "code",
   "execution_count": 5,
   "metadata": {},
   "outputs": [
    {
     "data": {
      "text/html": [
       "<div>\n",
       "<style scoped>\n",
       "    .dataframe tbody tr th:only-of-type {\n",
       "        vertical-align: middle;\n",
       "    }\n",
       "\n",
       "    .dataframe tbody tr th {\n",
       "        vertical-align: top;\n",
       "    }\n",
       "\n",
       "    .dataframe thead th {\n",
       "        text-align: right;\n",
       "    }\n",
       "</style>\n",
       "<table border=\"1\" class=\"dataframe\">\n",
       "  <thead>\n",
       "    <tr style=\"text-align: right;\">\n",
       "      <th></th>\n",
       "      <th>title</th>\n",
       "      <th>popularity</th>\n",
       "    </tr>\n",
       "  </thead>\n",
       "  <tbody>\n",
       "    <tr>\n",
       "      <th>0</th>\n",
       "      <td>Fem danskere i Touren: Sunweb udtager Søren Kragh</td>\n",
       "      <td>0</td>\n",
       "    </tr>\n",
       "    <tr>\n",
       "      <th>1</th>\n",
       "      <td>Klæstrup gift i moské: Jeg er så lykkelig</td>\n",
       "      <td>1</td>\n",
       "    </tr>\n",
       "    <tr>\n",
       "      <th>2</th>\n",
       "      <td>Teenager druknet efter skub i leg: Nu er kamme...</td>\n",
       "      <td>1</td>\n",
       "    </tr>\n",
       "    <tr>\n",
       "      <th>3</th>\n",
       "      <td>It-fejl i europæisk flyveplansystem er rettet</td>\n",
       "      <td>0</td>\n",
       "    </tr>\n",
       "    <tr>\n",
       "      <th>4</th>\n",
       "      <td>Voldtaget to timer på loftet over café: - Jeg ...</td>\n",
       "      <td>1</td>\n",
       "    </tr>\n",
       "  </tbody>\n",
       "</table>\n",
       "</div>"
      ],
      "text/plain": [
       "                                               title  popularity\n",
       "0  Fem danskere i Touren: Sunweb udtager Søren Kragh           0\n",
       "1          Klæstrup gift i moské: Jeg er så lykkelig           1\n",
       "2  Teenager druknet efter skub i leg: Nu er kamme...           1\n",
       "3      It-fejl i europæisk flyveplansystem er rettet           0\n",
       "4  Voldtaget to timer på loftet over café: - Jeg ...           1"
      ]
     },
     "execution_count": 5,
     "metadata": {},
     "output_type": "execute_result"
    }
   ],
   "source": [
    "df.drop([\"Unnamed: 0\", \"publishdate\",\"homesection\",\"pageviews\"], axis=1, inplace=True)\n",
    "df.head()"
   ]
  },
  {
   "cell_type": "code",
   "execution_count": 6,
   "metadata": {},
   "outputs": [
    {
     "data": {
      "text/html": [
       "<div>\n",
       "<style scoped>\n",
       "    .dataframe tbody tr th:only-of-type {\n",
       "        vertical-align: middle;\n",
       "    }\n",
       "\n",
       "    .dataframe tbody tr th {\n",
       "        vertical-align: top;\n",
       "    }\n",
       "\n",
       "    .dataframe thead th {\n",
       "        text-align: right;\n",
       "    }\n",
       "</style>\n",
       "<table border=\"1\" class=\"dataframe\">\n",
       "  <thead>\n",
       "    <tr style=\"text-align: right;\">\n",
       "      <th></th>\n",
       "      <th>title</th>\n",
       "      <th>popularity</th>\n",
       "    </tr>\n",
       "  </thead>\n",
       "  <tbody>\n",
       "    <tr>\n",
       "      <th>0</th>\n",
       "      <td>fem danskere i touren: sunweb udtager søren kragh</td>\n",
       "      <td>0</td>\n",
       "    </tr>\n",
       "    <tr>\n",
       "      <th>1</th>\n",
       "      <td>klæstrup gift i moské: jeg er så lykkelig</td>\n",
       "      <td>1</td>\n",
       "    </tr>\n",
       "    <tr>\n",
       "      <th>2</th>\n",
       "      <td>teenager druknet efter skub i leg: nu er kamme...</td>\n",
       "      <td>1</td>\n",
       "    </tr>\n",
       "    <tr>\n",
       "      <th>3</th>\n",
       "      <td>it-fejl i europæisk flyveplansystem er rettet</td>\n",
       "      <td>0</td>\n",
       "    </tr>\n",
       "    <tr>\n",
       "      <th>4</th>\n",
       "      <td>voldtaget to timer på loftet over café: - jeg ...</td>\n",
       "      <td>1</td>\n",
       "    </tr>\n",
       "    <tr>\n",
       "      <th>...</th>\n",
       "      <td>...</td>\n",
       "      <td>...</td>\n",
       "    </tr>\n",
       "    <tr>\n",
       "      <th>31513</th>\n",
       "      <td>helt til hest: politiet mangler borgernes hjæl...</td>\n",
       "      <td>0</td>\n",
       "    </tr>\n",
       "    <tr>\n",
       "      <th>31514</th>\n",
       "      <td>kæmpe ballade under pokalfinale: politiet brug...</td>\n",
       "      <td>1</td>\n",
       "    </tr>\n",
       "    <tr>\n",
       "      <th>31515</th>\n",
       "      <td>lavede sexbånd med kardashian: jeg er videre</td>\n",
       "      <td>0</td>\n",
       "    </tr>\n",
       "    <tr>\n",
       "      <th>31516</th>\n",
       "      <td>politiet bekræfter: nu skal ronaldo afhøres</td>\n",
       "      <td>1</td>\n",
       "    </tr>\n",
       "    <tr>\n",
       "      <th>31517</th>\n",
       "      <td>superliga-stjerne: min bror forsvandt og blev ...</td>\n",
       "      <td>1</td>\n",
       "    </tr>\n",
       "  </tbody>\n",
       "</table>\n",
       "<p>31518 rows × 2 columns</p>\n",
       "</div>"
      ],
      "text/plain": [
       "                                                   title  popularity\n",
       "0      fem danskere i touren: sunweb udtager søren kragh           0\n",
       "1              klæstrup gift i moské: jeg er så lykkelig           1\n",
       "2      teenager druknet efter skub i leg: nu er kamme...           1\n",
       "3          it-fejl i europæisk flyveplansystem er rettet           0\n",
       "4      voldtaget to timer på loftet over café: - jeg ...           1\n",
       "...                                                  ...         ...\n",
       "31513  helt til hest: politiet mangler borgernes hjæl...           0\n",
       "31514  kæmpe ballade under pokalfinale: politiet brug...           1\n",
       "31515       lavede sexbånd med kardashian: jeg er videre           0\n",
       "31516       politiet bekræfter: nu skal ronaldo afhøres            1\n",
       "31517  superliga-stjerne: min bror forsvandt og blev ...           1\n",
       "\n",
       "[31518 rows x 2 columns]"
      ]
     },
     "execution_count": 6,
     "metadata": {},
     "output_type": "execute_result"
    }
   ],
   "source": [
    "# Make everything lowercase\n",
    "df[\"title\"] = df[\"title\"].str.lower()\n",
    "df"
   ]
  },
  {
   "cell_type": "code",
   "execution_count": 7,
   "metadata": {},
   "outputs": [
    {
     "data": {
      "text/plain": [
       "0     fem danskere i touren sunweb udtager søren kragh\n",
       "1             klæstrup gift i moské jeg er så lykkelig\n",
       "2    teenager druknet efter skub i leg nu er kammer...\n",
       "3         itfejl i europæisk flyveplansystem er rettet\n",
       "4    voldtaget to timer på loftet over café  jeg vi...\n",
       "Name: title, dtype: object"
      ]
     },
     "execution_count": 7,
     "metadata": {},
     "output_type": "execute_result"
    }
   ],
   "source": [
    "# Remove all punctuation\n",
    "df['title'] = df['title'].str.replace('[^\\w\\s]','')\n",
    "df['title'].head()"
   ]
  },
  {
   "cell_type": "code",
   "execution_count": 8,
   "metadata": {},
   "outputs": [
    {
     "name": "stdout",
     "output_type": "stream",
     "text": [
      "['og', 'i', 'jeg', 'det', 'at', 'en', 'den', 'til', 'er', 'som', 'på', 'de', 'med', 'han', 'af', 'for', 'ikke', 'der', 'var', 'mig', 'sig', 'men', 'et', 'har', 'om', 'vi', 'min', 'havde', 'ham', 'hun', 'nu', 'over', 'da', 'fra', 'du', 'ud', 'sin', 'dem', 'os', 'op', 'man', 'hans', 'hvor', 'eller', 'hvad', 'skal', 'selv', 'her', 'alle', 'vil', 'blev', 'kunne', 'ind', 'når', 'være', 'dog', 'noget', 'ville', 'jo', 'deres', 'efter', 'ned', 'skulle', 'denne', 'end', 'dette', 'mit', 'også', 'under', 'have', 'dig', 'anden', 'hende', 'mine', 'alt', 'meget', 'sit', 'sine', 'vor', 'mod', 'disse', 'hvis', 'din', 'nogle', 'hos', 'blive', 'mange', 'ad', 'bliver', 'hendes', 'været', 'thi', 'jer', 'sådan']\n"
     ]
    }
   ],
   "source": [
    "import nltk \n",
    "from nltk.corpus import stopwords\n",
    "#nltk.download('stopwords')\n",
    "stop = stopwords.words('danish')\n",
    "print(stop)\n"
   ]
  },
  {
   "cell_type": "code",
   "execution_count": 9,
   "metadata": {},
   "outputs": [
    {
     "data": {
      "text/html": [
       "<div>\n",
       "<style scoped>\n",
       "    .dataframe tbody tr th:only-of-type {\n",
       "        vertical-align: middle;\n",
       "    }\n",
       "\n",
       "    .dataframe tbody tr th {\n",
       "        vertical-align: top;\n",
       "    }\n",
       "\n",
       "    .dataframe thead th {\n",
       "        text-align: right;\n",
       "    }\n",
       "</style>\n",
       "<table border=\"1\" class=\"dataframe\">\n",
       "  <thead>\n",
       "    <tr style=\"text-align: right;\">\n",
       "      <th></th>\n",
       "      <th>title</th>\n",
       "      <th>stopwords</th>\n",
       "    </tr>\n",
       "  </thead>\n",
       "  <tbody>\n",
       "    <tr>\n",
       "      <th>0</th>\n",
       "      <td>fem danskere i touren sunweb udtager søren kragh</td>\n",
       "      <td>1</td>\n",
       "    </tr>\n",
       "    <tr>\n",
       "      <th>1</th>\n",
       "      <td>klæstrup gift i moské jeg er så lykkelig</td>\n",
       "      <td>3</td>\n",
       "    </tr>\n",
       "    <tr>\n",
       "      <th>2</th>\n",
       "      <td>teenager druknet efter skub i leg nu er kammer...</td>\n",
       "      <td>4</td>\n",
       "    </tr>\n",
       "    <tr>\n",
       "      <th>3</th>\n",
       "      <td>itfejl i europæisk flyveplansystem er rettet</td>\n",
       "      <td>2</td>\n",
       "    </tr>\n",
       "    <tr>\n",
       "      <th>4</th>\n",
       "      <td>voldtaget to timer på loftet over café  jeg vi...</td>\n",
       "      <td>8</td>\n",
       "    </tr>\n",
       "  </tbody>\n",
       "</table>\n",
       "</div>"
      ],
      "text/plain": [
       "                                               title  stopwords\n",
       "0   fem danskere i touren sunweb udtager søren kragh          1\n",
       "1           klæstrup gift i moské jeg er så lykkelig          3\n",
       "2  teenager druknet efter skub i leg nu er kammer...          4\n",
       "3       itfejl i europæisk flyveplansystem er rettet          2\n",
       "4  voldtaget to timer på loftet over café  jeg vi...          8"
      ]
     },
     "execution_count": 9,
     "metadata": {},
     "output_type": "execute_result"
    }
   ],
   "source": [
    "# Show amount of stop words\n",
    "df['stopwords'] = df['title'].apply(lambda x: len([x for x in x.split() if x in stop]))\n",
    "df[['title','stopwords']].head()"
   ]
  },
  {
   "cell_type": "code",
   "execution_count": 10,
   "metadata": {},
   "outputs": [
    {
     "data": {
      "text/plain": [
       "0     fem danskere touren sunweb udtager søren kragh\n",
       "1                    klæstrup gift moské så lykkelig\n",
       "2          teenager druknet skub leg kammerat sigtet\n",
       "3            itfejl europæisk flyveplansystem rettet\n",
       "4    voldtaget to timer loftet café straffe fortjent\n",
       "Name: title, dtype: object"
      ]
     },
     "execution_count": 10,
     "metadata": {},
     "output_type": "execute_result"
    }
   ],
   "source": [
    "# Remove stop words\n",
    "df['title'] = df['title'].apply(lambda x: \" \".join(x for x in x.split() if x not in stop))\n",
    "df['title'].head()"
   ]
  },
  {
   "cell_type": "code",
   "execution_count": 11,
   "metadata": {},
   "outputs": [
    {
     "data": {
      "text/plain": [
       "dansk      1380\n",
       "kan         973\n",
       "mand        854\n",
       "så          781\n",
       "ny          774\n",
       "får         720\n",
       "ved         618\n",
       "år          612\n",
       "danmark     599\n",
       "danske      595\n",
       "dtype: int64"
      ]
     },
     "execution_count": 11,
     "metadata": {},
     "output_type": "execute_result"
    }
   ],
   "source": [
    "# Get the 10 most common words\n",
    "### Should this be all words above X count? Or something else?\n",
    "freq = pd.Series(' '.join(df['title']).split()).value_counts()[:10]\n",
    "freq"
   ]
  },
  {
   "cell_type": "code",
   "execution_count": 12,
   "metadata": {},
   "outputs": [
    {
     "data": {
      "text/plain": [
       "0     fem danskere touren sunweb udtager søren kragh\n",
       "1                       klæstrup gift moské lykkelig\n",
       "2          teenager druknet skub leg kammerat sigtet\n",
       "3            itfejl europæisk flyveplansystem rettet\n",
       "4    voldtaget to timer loftet café straffe fortjent\n",
       "Name: title, dtype: object"
      ]
     },
     "execution_count": 12,
     "metadata": {},
     "output_type": "execute_result"
    }
   ],
   "source": [
    "# Remove the 10 most common words as they're not useful when classifying our data \n",
    "# (This allows us to catch some additional \"stop words\" not in our stop word library)\n",
    "freq = list(freq.index)\n",
    "df['title'] = df['title'].apply(lambda x: \" \".join(x for x in x.split() if x not in freq))\n",
    "df['title'].head()"
   ]
  },
  {
   "cell_type": "code",
   "execution_count": 13,
   "metadata": {},
   "outputs": [
    {
     "data": {
      "text/plain": [
       "pirates         1\n",
       "middelmådigt    1\n",
       "bullchef        1\n",
       "udkig           1\n",
       "vergara         1\n",
       "drabssager      1\n",
       "børnehøjde      1\n",
       "ølproducent     1\n",
       "mother          1\n",
       "storholdet      1\n",
       "dtype: int64"
      ]
     },
     "execution_count": 13,
     "metadata": {},
     "output_type": "execute_result"
    }
   ],
   "source": [
    "# Get the 10 least common words\n",
    "### Should this be all words that are counted only once? Or something else?\n",
    "\n",
    "freq = pd.Series(' '.join(df['title']).split()).value_counts()[-10:]\n",
    "freq"
   ]
  },
  {
   "cell_type": "code",
   "execution_count": 14,
   "metadata": {},
   "outputs": [
    {
     "data": {
      "text/plain": [
       "0     fem danskere touren sunweb udtager søren kragh\n",
       "1                       klæstrup gift moské lykkelig\n",
       "2          teenager druknet skub leg kammerat sigtet\n",
       "3            itfejl europæisk flyveplansystem rettet\n",
       "4    voldtaget to timer loftet café straffe fortjent\n",
       "Name: title, dtype: object"
      ]
     },
     "execution_count": 14,
     "metadata": {},
     "output_type": "execute_result"
    }
   ],
   "source": [
    "# Remove the rarest words\n",
    "freq = list(freq.index)\n",
    "df['title'] = df['title'].apply(lambda x: \" \".join(x for x in x.split() if x not in freq))\n",
    "df['title'].head()"
   ]
  },
  {
   "cell_type": "markdown",
   "metadata": {},
   "source": [
    "## Stemming"
   ]
  },
  {
   "cell_type": "code",
   "execution_count": 15,
   "metadata": {},
   "outputs": [
    {
     "data": {
      "text/html": [
       "<div>\n",
       "<style scoped>\n",
       "    .dataframe tbody tr th:only-of-type {\n",
       "        vertical-align: middle;\n",
       "    }\n",
       "\n",
       "    .dataframe tbody tr th {\n",
       "        vertical-align: top;\n",
       "    }\n",
       "\n",
       "    .dataframe thead th {\n",
       "        text-align: right;\n",
       "    }\n",
       "</style>\n",
       "<table border=\"1\" class=\"dataframe\">\n",
       "  <thead>\n",
       "    <tr style=\"text-align: right;\">\n",
       "      <th></th>\n",
       "      <th>title</th>\n",
       "      <th>popularity</th>\n",
       "      <th>stopwords</th>\n",
       "      <th>tokenized_title</th>\n",
       "    </tr>\n",
       "  </thead>\n",
       "  <tbody>\n",
       "    <tr>\n",
       "      <th>0</th>\n",
       "      <td>fem danskere touren sunweb udtager søren kragh</td>\n",
       "      <td>0</td>\n",
       "      <td>1</td>\n",
       "      <td>[fem, danskere, touren, sunweb, udtager, søren...</td>\n",
       "    </tr>\n",
       "    <tr>\n",
       "      <th>1</th>\n",
       "      <td>klæstrup gift moské lykkelig</td>\n",
       "      <td>1</td>\n",
       "      <td>3</td>\n",
       "      <td>[klæstrup, gift, moské, lykkelig]</td>\n",
       "    </tr>\n",
       "    <tr>\n",
       "      <th>2</th>\n",
       "      <td>teenager druknet skub leg kammerat sigtet</td>\n",
       "      <td>1</td>\n",
       "      <td>4</td>\n",
       "      <td>[teenager, druknet, skub, leg, kammerat, sigtet]</td>\n",
       "    </tr>\n",
       "    <tr>\n",
       "      <th>3</th>\n",
       "      <td>itfejl europæisk flyveplansystem rettet</td>\n",
       "      <td>0</td>\n",
       "      <td>2</td>\n",
       "      <td>[itfejl, europæisk, flyveplansystem, rettet]</td>\n",
       "    </tr>\n",
       "    <tr>\n",
       "      <th>4</th>\n",
       "      <td>voldtaget to timer loftet café straffe fortjent</td>\n",
       "      <td>1</td>\n",
       "      <td>8</td>\n",
       "      <td>[voldtaget, to, timer, loftet, café, straffe, ...</td>\n",
       "    </tr>\n",
       "  </tbody>\n",
       "</table>\n",
       "</div>"
      ],
      "text/plain": [
       "                                             title  popularity  stopwords  \\\n",
       "0   fem danskere touren sunweb udtager søren kragh           0          1   \n",
       "1                     klæstrup gift moské lykkelig           1          3   \n",
       "2        teenager druknet skub leg kammerat sigtet           1          4   \n",
       "3          itfejl europæisk flyveplansystem rettet           0          2   \n",
       "4  voldtaget to timer loftet café straffe fortjent           1          8   \n",
       "\n",
       "                                     tokenized_title  \n",
       "0  [fem, danskere, touren, sunweb, udtager, søren...  \n",
       "1                  [klæstrup, gift, moské, lykkelig]  \n",
       "2   [teenager, druknet, skub, leg, kammerat, sigtet]  \n",
       "3       [itfejl, europæisk, flyveplansystem, rettet]  \n",
       "4  [voldtaget, to, timer, loftet, café, straffe, ...  "
      ]
     },
     "execution_count": 15,
     "metadata": {},
     "output_type": "execute_result"
    }
   ],
   "source": [
    "#Tokenize the title, e.g. put each word in its own array entry\n",
    "from nltk.tokenize import word_tokenize\n",
    "df['tokenized_title'] = df['title'].apply(word_tokenize) \n",
    "df.head()"
   ]
  },
  {
   "cell_type": "code",
   "execution_count": 16,
   "metadata": {},
   "outputs": [
    {
     "data": {
      "text/html": [
       "<div>\n",
       "<style scoped>\n",
       "    .dataframe tbody tr th:only-of-type {\n",
       "        vertical-align: middle;\n",
       "    }\n",
       "\n",
       "    .dataframe tbody tr th {\n",
       "        vertical-align: top;\n",
       "    }\n",
       "\n",
       "    .dataframe thead th {\n",
       "        text-align: right;\n",
       "    }\n",
       "</style>\n",
       "<table border=\"1\" class=\"dataframe\">\n",
       "  <thead>\n",
       "    <tr style=\"text-align: right;\">\n",
       "      <th></th>\n",
       "      <th>title</th>\n",
       "      <th>popularity</th>\n",
       "      <th>stopwords</th>\n",
       "      <th>tokenized_title</th>\n",
       "      <th>stemmed_title</th>\n",
       "    </tr>\n",
       "  </thead>\n",
       "  <tbody>\n",
       "    <tr>\n",
       "      <th>0</th>\n",
       "      <td>fem danskere touren sunweb udtager søren kragh</td>\n",
       "      <td>0</td>\n",
       "      <td>1</td>\n",
       "      <td>[fem, danskere, touren, sunweb, udtager, søren...</td>\n",
       "      <td>[fem, dansk, tour, sunweb, udtag, sør, kragh]</td>\n",
       "    </tr>\n",
       "    <tr>\n",
       "      <th>1</th>\n",
       "      <td>klæstrup gift moské lykkelig</td>\n",
       "      <td>1</td>\n",
       "      <td>3</td>\n",
       "      <td>[klæstrup, gift, moské, lykkelig]</td>\n",
       "      <td>[klæstrup, gift, moské, lyk]</td>\n",
       "    </tr>\n",
       "    <tr>\n",
       "      <th>2</th>\n",
       "      <td>teenager druknet skub leg kammerat sigtet</td>\n",
       "      <td>1</td>\n",
       "      <td>4</td>\n",
       "      <td>[teenager, druknet, skub, leg, kammerat, sigtet]</td>\n",
       "      <td>[teenag, drukn, skub, leg, kammerat, sigt]</td>\n",
       "    </tr>\n",
       "    <tr>\n",
       "      <th>3</th>\n",
       "      <td>itfejl europæisk flyveplansystem rettet</td>\n",
       "      <td>0</td>\n",
       "      <td>2</td>\n",
       "      <td>[itfejl, europæisk, flyveplansystem, rettet]</td>\n",
       "      <td>[itfejl, europæisk, flyveplansystem, ret]</td>\n",
       "    </tr>\n",
       "    <tr>\n",
       "      <th>4</th>\n",
       "      <td>voldtaget to timer loftet café straffe fortjent</td>\n",
       "      <td>1</td>\n",
       "      <td>8</td>\n",
       "      <td>[voldtaget, to, timer, loftet, café, straffe, ...</td>\n",
       "      <td>[voldtag, to, tim, loft, café, straf, fortjent]</td>\n",
       "    </tr>\n",
       "  </tbody>\n",
       "</table>\n",
       "</div>"
      ],
      "text/plain": [
       "                                             title  popularity  stopwords  \\\n",
       "0   fem danskere touren sunweb udtager søren kragh           0          1   \n",
       "1                     klæstrup gift moské lykkelig           1          3   \n",
       "2        teenager druknet skub leg kammerat sigtet           1          4   \n",
       "3          itfejl europæisk flyveplansystem rettet           0          2   \n",
       "4  voldtaget to timer loftet café straffe fortjent           1          8   \n",
       "\n",
       "                                     tokenized_title  \\\n",
       "0  [fem, danskere, touren, sunweb, udtager, søren...   \n",
       "1                  [klæstrup, gift, moské, lykkelig]   \n",
       "2   [teenager, druknet, skub, leg, kammerat, sigtet]   \n",
       "3       [itfejl, europæisk, flyveplansystem, rettet]   \n",
       "4  [voldtaget, to, timer, loftet, café, straffe, ...   \n",
       "\n",
       "                                     stemmed_title  \n",
       "0    [fem, dansk, tour, sunweb, udtag, sør, kragh]  \n",
       "1                     [klæstrup, gift, moské, lyk]  \n",
       "2       [teenag, drukn, skub, leg, kammerat, sigt]  \n",
       "3        [itfejl, europæisk, flyveplansystem, ret]  \n",
       "4  [voldtag, to, tim, loft, café, straf, fortjent]  "
      ]
     },
     "execution_count": 16,
     "metadata": {},
     "output_type": "execute_result"
    }
   ],
   "source": [
    "from nltk.stem.snowball import SnowballStemmer\n",
    "stemmer = SnowballStemmer('danish')\n",
    "df[\"stemmed_title\"] = df[\"tokenized_title\"].apply(lambda x: [stemmer.stem(y) for y in x])\n",
    "df.head()"
   ]
  },
  {
   "cell_type": "markdown",
   "metadata": {},
   "source": [
    "## Lemmatization"
   ]
  },
  {
   "cell_type": "code",
   "execution_count": 17,
   "metadata": {},
   "outputs": [],
   "source": [
    "import lemmy\n",
    "lemmatizer = lemmy.load(\"da\")"
   ]
  },
  {
   "cell_type": "code",
   "execution_count": 18,
   "metadata": {
    "scrolled": false
   },
   "outputs": [
    {
     "data": {
      "text/html": [
       "<div>\n",
       "<style scoped>\n",
       "    .dataframe tbody tr th:only-of-type {\n",
       "        vertical-align: middle;\n",
       "    }\n",
       "\n",
       "    .dataframe tbody tr th {\n",
       "        vertical-align: top;\n",
       "    }\n",
       "\n",
       "    .dataframe thead th {\n",
       "        text-align: right;\n",
       "    }\n",
       "</style>\n",
       "<table border=\"1\" class=\"dataframe\">\n",
       "  <thead>\n",
       "    <tr style=\"text-align: right;\">\n",
       "      <th></th>\n",
       "      <th>title</th>\n",
       "      <th>popularity</th>\n",
       "      <th>tokenized_title</th>\n",
       "      <th>stemmed_title</th>\n",
       "      <th>lemmatized_title</th>\n",
       "    </tr>\n",
       "  </thead>\n",
       "  <tbody>\n",
       "    <tr>\n",
       "      <th>0</th>\n",
       "      <td>fem danskere touren sunweb udtager søren kragh</td>\n",
       "      <td>0</td>\n",
       "      <td>[fem, danskere, touren, sunweb, udtager, søren...</td>\n",
       "      <td>[fem, dansk, tour, sunweb, udtag, sør, kragh]</td>\n",
       "      <td>fem dansker tour sunweb udtage søren kragh</td>\n",
       "    </tr>\n",
       "    <tr>\n",
       "      <th>1</th>\n",
       "      <td>klæstrup gift moské lykkelig</td>\n",
       "      <td>1</td>\n",
       "      <td>[klæstrup, gift, moské, lykkelig]</td>\n",
       "      <td>[klæstrup, gift, moské, lyk]</td>\n",
       "      <td>klæstrup gifte moské lykkelig</td>\n",
       "    </tr>\n",
       "    <tr>\n",
       "      <th>2</th>\n",
       "      <td>teenager druknet skub leg kammerat sigtet</td>\n",
       "      <td>1</td>\n",
       "      <td>[teenager, druknet, skub, leg, kammerat, sigtet]</td>\n",
       "      <td>[teenag, drukn, skub, leg, kammerat, sigt]</td>\n",
       "      <td>teenager drukne skub leg kammerat sigte</td>\n",
       "    </tr>\n",
       "    <tr>\n",
       "      <th>3</th>\n",
       "      <td>itfejl europæisk flyveplansystem rettet</td>\n",
       "      <td>0</td>\n",
       "      <td>[itfejl, europæisk, flyveplansystem, rettet]</td>\n",
       "      <td>[itfejl, europæisk, flyveplansystem, ret]</td>\n",
       "      <td>itfejl europæisk flyveplansystem rette</td>\n",
       "    </tr>\n",
       "    <tr>\n",
       "      <th>4</th>\n",
       "      <td>voldtaget to timer loftet café straffe fortjent</td>\n",
       "      <td>1</td>\n",
       "      <td>[voldtaget, to, timer, loftet, café, straffe, ...</td>\n",
       "      <td>[voldtag, to, tim, loft, café, straf, fortjent]</td>\n",
       "      <td>voldtage to time loft café straffe fortjene</td>\n",
       "    </tr>\n",
       "    <tr>\n",
       "      <th>...</th>\n",
       "      <td>...</td>\n",
       "      <td>...</td>\n",
       "      <td>...</td>\n",
       "      <td>...</td>\n",
       "      <td>...</td>\n",
       "    </tr>\n",
       "    <tr>\n",
       "      <th>31513</th>\n",
       "      <td>helt hest politiet mangler borgernes hjælp nye...</td>\n",
       "      <td>0</td>\n",
       "      <td>[helt, hest, politiet, mangler, borgernes, hjæ...</td>\n",
       "      <td>[helt, hest, politi, mangl, borg, hjælp, nye, ...</td>\n",
       "      <td>hel hest politi mangel borger hjælp ny transp...</td>\n",
       "    </tr>\n",
       "    <tr>\n",
       "      <th>31514</th>\n",
       "      <td>kæmpe ballade pokalfinale politiet brugte tåre...</td>\n",
       "      <td>1</td>\n",
       "      <td>[kæmpe, ballade, pokalfinale, politiet, brugte...</td>\n",
       "      <td>[kæmp, ballad, pokalfinal, politi, brugt, tåre...</td>\n",
       "      <td>kæmpe ballade pokalfinale politi brugte tåreg...</td>\n",
       "    </tr>\n",
       "    <tr>\n",
       "      <th>31515</th>\n",
       "      <td>lavede sexbånd kardashian videre</td>\n",
       "      <td>0</td>\n",
       "      <td>[lavede, sexbånd, kardashian, videre]</td>\n",
       "      <td>[laved, sexbånd, kardashian, vid]</td>\n",
       "      <td>lave sexbånde kardashian videre</td>\n",
       "    </tr>\n",
       "    <tr>\n",
       "      <th>31516</th>\n",
       "      <td>politiet bekræfter ronaldo afhøres</td>\n",
       "      <td>1</td>\n",
       "      <td>[politiet, bekræfter, ronaldo, afhøres]</td>\n",
       "      <td>[politi, bekræft, ronaldo, afhør]</td>\n",
       "      <td>politi bekræfte ronaldo afhøre</td>\n",
       "    </tr>\n",
       "    <tr>\n",
       "      <th>31517</th>\n",
       "      <td>superligastjerne bror forsvandt fundet død</td>\n",
       "      <td>1</td>\n",
       "      <td>[superligastjerne, bror, forsvandt, fundet, død]</td>\n",
       "      <td>[superligastj, bror, forsvand, fund, død]</td>\n",
       "      <td>superligastjerne bror forsvinde fund dø</td>\n",
       "    </tr>\n",
       "  </tbody>\n",
       "</table>\n",
       "<p>31518 rows × 5 columns</p>\n",
       "</div>"
      ],
      "text/plain": [
       "                                                   title  popularity  \\\n",
       "0         fem danskere touren sunweb udtager søren kragh           0   \n",
       "1                           klæstrup gift moské lykkelig           1   \n",
       "2              teenager druknet skub leg kammerat sigtet           1   \n",
       "3                itfejl europæisk flyveplansystem rettet           0   \n",
       "4        voldtaget to timer loftet café straffe fortjent           1   \n",
       "...                                                  ...         ...   \n",
       "31513  helt hest politiet mangler borgernes hjælp nye...           0   \n",
       "31514  kæmpe ballade pokalfinale politiet brugte tåre...           1   \n",
       "31515                   lavede sexbånd kardashian videre           0   \n",
       "31516                 politiet bekræfter ronaldo afhøres           1   \n",
       "31517         superligastjerne bror forsvandt fundet død           1   \n",
       "\n",
       "                                         tokenized_title  \\\n",
       "0      [fem, danskere, touren, sunweb, udtager, søren...   \n",
       "1                      [klæstrup, gift, moské, lykkelig]   \n",
       "2       [teenager, druknet, skub, leg, kammerat, sigtet]   \n",
       "3           [itfejl, europæisk, flyveplansystem, rettet]   \n",
       "4      [voldtaget, to, timer, loftet, café, straffe, ...   \n",
       "...                                                  ...   \n",
       "31513  [helt, hest, politiet, mangler, borgernes, hjæ...   \n",
       "31514  [kæmpe, ballade, pokalfinale, politiet, brugte...   \n",
       "31515              [lavede, sexbånd, kardashian, videre]   \n",
       "31516            [politiet, bekræfter, ronaldo, afhøres]   \n",
       "31517   [superligastjerne, bror, forsvandt, fundet, død]   \n",
       "\n",
       "                                           stemmed_title  \\\n",
       "0          [fem, dansk, tour, sunweb, udtag, sør, kragh]   \n",
       "1                           [klæstrup, gift, moské, lyk]   \n",
       "2             [teenag, drukn, skub, leg, kammerat, sigt]   \n",
       "3              [itfejl, europæisk, flyveplansystem, ret]   \n",
       "4        [voldtag, to, tim, loft, café, straf, fortjent]   \n",
       "...                                                  ...   \n",
       "31513  [helt, hest, politi, mangl, borg, hjælp, nye, ...   \n",
       "31514  [kæmp, ballad, pokalfinal, politi, brugt, tåre...   \n",
       "31515                  [laved, sexbånd, kardashian, vid]   \n",
       "31516                  [politi, bekræft, ronaldo, afhør]   \n",
       "31517          [superligastj, bror, forsvand, fund, død]   \n",
       "\n",
       "                                        lemmatized_title  \n",
       "0             fem dansker tour sunweb udtage søren kragh  \n",
       "1                          klæstrup gifte moské lykkelig  \n",
       "2                teenager drukne skub leg kammerat sigte  \n",
       "3                 itfejl europæisk flyveplansystem rette  \n",
       "4            voldtage to time loft café straffe fortjene  \n",
       "...                                                  ...  \n",
       "31513   hel hest politi mangel borger hjælp ny transp...  \n",
       "31514   kæmpe ballade pokalfinale politi brugte tåreg...  \n",
       "31515                    lave sexbånde kardashian videre  \n",
       "31516                     politi bekræfte ronaldo afhøre  \n",
       "31517            superligastjerne bror forsvinde fund dø  \n",
       "\n",
       "[31518 rows x 5 columns]"
      ]
     },
     "execution_count": 18,
     "metadata": {},
     "output_type": "execute_result"
    }
   ],
   "source": [
    "lemmaWords = []\n",
    "for i in df['title']:\n",
    "    lemmatized_str = \"\"\n",
    "    for word in str(i).split(' '):\n",
    "        word = lemmatizer.lemmatize(\"\", word)\n",
    "        lemmatized_str = lemmatized_str+ \" \" + str(word[0])\n",
    "    \n",
    "    lemmaWords.append(lemmatized_str)\n",
    "df['lemmatized_title'] = lemmaWords\n",
    "df[['title','popularity','tokenized_title','stemmed_title','lemmatized_title']]"
   ]
  },
  {
   "cell_type": "markdown",
   "metadata": {},
   "source": [
    "# Testing Lemmatization"
   ]
  },
  {
   "cell_type": "code",
   "execution_count": 19,
   "metadata": {},
   "outputs": [
    {
     "data": {
      "text/plain": [
       "((23638,), (7880,), (23638,), (7880,))"
      ]
     },
     "execution_count": 19,
     "metadata": {},
     "output_type": "execute_result"
    }
   ],
   "source": [
    "from sklearn.model_selection import train_test_split\n",
    "X_train, X_test, y_train, y_test = train_test_split(df.lemmatized_title, df.popularity, random_state=42)\n",
    "X_train.shape, X_test.shape, y_train.shape, y_test.shape"
   ]
  },
  {
   "cell_type": "code",
   "execution_count": 20,
   "metadata": {},
   "outputs": [],
   "source": [
    "# Use TF-IDF method\n",
    "from sklearn.feature_extraction.text import TfidfVectorizer\n",
    "vect_new = TfidfVectorizer(min_df=5).fit(X_train)\n",
    "tfid_x_train = vect_new.transform(X_train)\n",
    "tfid_x_test = vect_new.transform(X_test)"
   ]
  },
  {
   "cell_type": "code",
   "execution_count": 21,
   "metadata": {},
   "outputs": [
    {
     "name": "stdout",
     "output_type": "stream",
     "text": [
      "Dummy Classifer\n",
      "Training set score: 0.502\n",
      "Test set score: 0.498\n",
      "-------------------------------------------\n",
      "Logistic Regression\n",
      "Training set score: 0.757\n",
      "Test set score: 0.662\n",
      "-------------------------------------------\n",
      "Linear SVC\n",
      "Training set score: 0.771\n",
      "Test set score: 0.657\n",
      "-------------------------------------------\n",
      "Decision Tree\n",
      "Training set score: 0.990\n",
      "Test set score: 0.610\n",
      "-------------------------------------------\n",
      "Random Forest\n",
      "Training set score: 0.990\n",
      "Test set score: 0.647\n",
      "-------------------------------------------\n"
     ]
    }
   ],
   "source": [
    "from sklearn.linear_model import LogisticRegression\n",
    "from sklearn.svm import LinearSVC\n",
    "from sklearn.dummy import DummyClassifier\n",
    "from sklearn.tree import DecisionTreeClassifier\n",
    "from sklearn.ensemble import RandomForestClassifier\n",
    "\n",
    "dummyC = DummyClassifier(strategy=\"most_frequent\").fit(tfid_x_train, y_train)\n",
    "print(\"Dummy Classifer\")\n",
    "print(\"Training set score: {:.3f}\".format(dummyC.score(tfid_x_train, y_train)))\n",
    "print(\"Test set score: {:.3f}\".format(dummyC.score(tfid_x_test, y_test)))\n",
    "print(\"-------------------------------------------\")\n",
    "\n",
    "logreg = LogisticRegression(max_iter=10000).fit(tfid_x_train, y_train)\n",
    "print(\"Logistic Regression\")\n",
    "print(\"Training set score: {:.3f}\".format(logreg.score(tfid_x_train, y_train)))\n",
    "print(\"Test set score: {:.3f}\".format(logreg.score(tfid_x_test, y_test)))\n",
    "print(\"-------------------------------------------\")\n",
    "\n",
    "linearsvc = LinearSVC(max_iter=10000).fit(tfid_x_train, y_train)\n",
    "print(\"Linear SVC\")\n",
    "print(\"Training set score: {:.3f}\".format(linearsvc.score(tfid_x_train, y_train)))\n",
    "print(\"Test set score: {:.3f}\".format(linearsvc.score(tfid_x_test, y_test)))\n",
    "print(\"-------------------------------------------\")\n",
    "\n",
    "dtc = DecisionTreeClassifier().fit(tfid_x_train, y_train)\n",
    "print(\"Decision Tree\")\n",
    "print(\"Training set score: {:.3f}\".format(dtc.score(tfid_x_train, y_train)))\n",
    "print(\"Test set score: {:.3f}\".format(dtc.score(tfid_x_test, y_test)))\n",
    "print(\"-------------------------------------------\")\n",
    "\n",
    "rfc = RandomForestClassifier().fit(tfid_x_train, y_train)\n",
    "print(\"Random Forest\")\n",
    "print(\"Training set score: {:.3f}\".format(rfc.score(tfid_x_train, y_train)))\n",
    "print(\"Test set score: {:.3f}\".format(rfc.score(tfid_x_test, y_test)))\n",
    "print(\"-------------------------------------------\")"
   ]
  },
  {
   "cell_type": "code",
   "execution_count": null,
   "metadata": {},
   "outputs": [],
   "source": []
  }
 ],
 "metadata": {
  "kernelspec": {
   "display_name": "Python 3",
   "language": "python",
   "name": "python3"
  },
  "language_info": {
   "codemirror_mode": {
    "name": "ipython",
    "version": 3
   },
   "file_extension": ".py",
   "mimetype": "text/x-python",
   "name": "python",
   "nbconvert_exporter": "python",
   "pygments_lexer": "ipython3",
   "version": "3.8.2"
  }
 },
 "nbformat": 4,
 "nbformat_minor": 4
}
